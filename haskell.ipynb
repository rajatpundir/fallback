{
 "cells": [
  {
   "cell_type": "code",
   "execution_count": 1,
   "metadata": {},
   "outputs": [
    {
     "ename": "",
     "evalue": "",
     "header": "MessageHeader {mhIdentifiers = [\"425dc27d-23b8-488f-a2a0-dab73de0f0a9\"], mhParentHeader = Just (MessageHeader {mhIdentifiers = [\"425dc27d-23b8-488f-a2a0-dab73de0f0a9\"], mhParentHeader = Nothing, mhMetadata = Metadata (fromList [(\"deletedCells\",Array []),(\"cellId\",String \"7bd2edca-a9ea-466c-b9ee-95ee485bc3ff\")]), mhMessageId = UUID {uuidToString = \"25ffc9be-80b1-4caf-abff-7b9bed831d42\"}, mhSessionId = UUID {uuidToString = \"425dc27d-23b8-488f-a2a0-dab73de0f0a9\"}, mhUsername = \"\", mhMsgType = ExecuteRequestMessage}), mhMetadata = Metadata (fromList []), mhMessageId = UUID {uuidToString = \"6e694ca7-f4bd-41e0-9438-767e44dd6c8f\"}, mhSessionId = UUID {uuidToString = \"425dc27d-23b8-488f-a2a0-dab73de0f0a9\"}, mhUsername = \"\", mhMsgType = ExecuteErrorMessage}",
     "output_type": "error",
     "traceback": [
      "<interactive>:1:1: error:\n    Could not find module ‘Returns’\n    Use -v to see a list of the files searched for."
     ]
    }
   ],
   "source": []
  }
 ],
 "metadata": {
  "kernelspec": {
   "display_name": "Haskell",
   "language": "haskell",
   "name": "haskell"
  },
  "language_info": {
   "codemirror_mode": "ihaskell",
   "file_extension": ".hs",
   "name": "haskell",
   "pygments_lexer": "Haskell",
   "version": "8.6.5"
  }
 },
 "nbformat": 4,
 "nbformat_minor": 2
}
