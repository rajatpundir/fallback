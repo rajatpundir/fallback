{
 "cells": [
  {
   "cell_type": "code",
   "execution_count": 116,
   "metadata": {},
   "outputs": [],
   "source": [
    "def get_rates(filename=\"d-ibm-0110.txt\"):\n",
    "    l = []\n",
    "    d = {}\n",
    "    for x in open(filename, 'r').readlines():\n",
    "        if x.split(' ')[0].strip() == 'date':\n",
    "            continue\n",
    "        d[x.split(' ')[0].strip()] = float(x.split(' ')[-1].strip()) * 100\n",
    "        l.append(float(x.split(' ')[-1].strip()) * 100)\n",
    "    return (l, d)\n",
    "    \n",
    "l, d = get_rates()"
   ]
  },
  {
   "cell_type": "code",
   "execution_count": 117,
   "metadata": {},
   "outputs": [
    {
     "data": {
      "text/plain": [
       "0.04097355864811134"
      ]
     },
     "execution_count": 117,
     "metadata": {},
     "output_type": "execute_result"
    }
   ],
   "source": [
    "def mean(l):\n",
    "    s = 0\n",
    "    for x in l:\n",
    "        s += x\n",
    "    m = s / len(l)\n",
    "    return(m)\n",
    "\n",
    "mean(l)"
   ]
  },
  {
   "cell_type": "code",
   "execution_count": 118,
   "metadata": {},
   "outputs": [
    {
     "data": {
      "text/plain": [
       "2.910304097745281"
      ]
     },
     "execution_count": 118,
     "metadata": {},
     "output_type": "execute_result"
    }
   ],
   "source": [
    "def var(l):\n",
    "    m = mean(l)\n",
    "    s = 0\n",
    "    for x in l:\n",
    "        s += (x - m) ** 2\n",
    "    v = s / (len(l) - 1)\n",
    "    return(v)\n",
    "\n",
    "var(l)"
   ]
  },
  {
   "cell_type": "code",
   "execution_count": 119,
   "metadata": {},
   "outputs": [
    {
     "data": {
      "text/plain": [
       "1.7059613412223857"
      ]
     },
     "execution_count": 119,
     "metadata": {},
     "output_type": "execute_result"
    }
   ],
   "source": [
    "def std(l):\n",
    "    st = math.sqrt(var(l))\n",
    "    return(st)\n",
    "\n",
    "std(l)"
   ]
  },
  {
   "cell_type": "code",
   "execution_count": 120,
   "metadata": {},
   "outputs": [
    {
     "data": {
      "text/plain": [
       "0.5173893352498216"
      ]
     },
     "execution_count": 120,
     "metadata": {},
     "output_type": "execute_result"
    }
   ],
   "source": [
    "import math\n",
    "\n",
    "def skewness(l):\n",
    "    m = mean(l)\n",
    "    st = std(l)\n",
    "    s = 0\n",
    "    for x in l:\n",
    "        s += (x - m) ** 3\n",
    "    sk = s / ((len(l) - 1) * st ** 3)\n",
    "    return(sk)\n",
    "\n",
    "skewness(l)"
   ]
  },
  {
   "cell_type": "code",
   "execution_count": 121,
   "metadata": {},
   "outputs": [
    {
     "data": {
      "text/plain": [
       "6.664887285896597"
      ]
     },
     "execution_count": 121,
     "metadata": {},
     "output_type": "execute_result"
    }
   ],
   "source": [
    "def excess_kurtosis(l):\n",
    "    m = mean(l)\n",
    "    st = std(l)\n",
    "    s = 0\n",
    "    for x in l:\n",
    "        s += (x - m) ** 4\n",
    "    k = s / ((len(l) - 1) * st ** 4)\n",
    "    k -= 3\n",
    "    return(k)\n",
    "\n",
    "excess_kurtosis(l)"
   ]
  },
  {
   "cell_type": "code",
   "execution_count": 114,
   "metadata": {},
   "outputs": [
    {
     "data": {
      "text/plain": [
       "10.592801694539864"
      ]
     },
     "execution_count": 114,
     "metadata": {},
     "output_type": "execute_result"
    }
   ],
   "source": [
    "def t_statistic_skewness(l):\n",
    "    t = skewness(l) / math.sqrt(6 / len(l))\n",
    "    return(t)\n",
    "\n",
    "t_statistic_skewness(l)"
   ]
  },
  {
   "cell_type": "code",
   "execution_count": 124,
   "metadata": {},
   "outputs": [
    {
     "data": {
      "text/plain": [
       "1.0123536305490703e-71"
      ]
     },
     "execution_count": 124,
     "metadata": {},
     "output_type": "execute_result"
    }
   ],
   "source": [
    "def pnorm(l):\n",
    "    t = t_statistic_skewness(l)\n",
    "    return(math.exp(-(t - mean(l))**2 / 2 * var(l)) / (std(l) * math.sqrt(2 * math.pi)))\n",
    "pnorm(l)"
   ]
  },
  {
   "cell_type": "code",
   "execution_count": null,
   "metadata": {},
   "outputs": [],
   "source": [
    "pip install scipy"
   ]
  }
 ],
 "metadata": {
  "kernelspec": {
   "display_name": "Python 3",
   "language": "python",
   "name": "python3"
  },
  "language_info": {
   "codemirror_mode": {
    "name": "ipython",
    "version": 3
   },
   "file_extension": ".py",
   "mimetype": "text/x-python",
   "name": "python",
   "nbconvert_exporter": "python",
   "pygments_lexer": "ipython3",
   "version": "3.7.1"
  }
 },
 "nbformat": 4,
 "nbformat_minor": 2
}
